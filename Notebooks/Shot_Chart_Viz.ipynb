{
 "cells": [
  {
   "cell_type": "markdown",
   "id": "33960955",
   "metadata": {},
   "source": [
    "# NBA Shot Chart Visualization\n",
    "\n",
    "Shows a visual representation of a player's field goal attempts (made and missed) over a specified time period.  \n",
    "\n",
    "Time Periods:\n",
    "- Single Game Date\n",
    "- Season (year)\n",
    "- Playoffs (year)"
   ]
  },
  {
   "cell_type": "markdown",
   "id": "324d88a6",
   "metadata": {},
   "source": [
    "## Imports\n",
    "\n",
    "- [json](https://docs.python.org/3/library/json.html)\n",
    "- [requests](https://docs.python-requests.org/en/master/api/#request-sessions)\n",
    "- [pandas](https://pandas.pydata.org)\n",
    "- [seaborn](https://seaborn.pydata.org)\n",
    "- [matplotlib](https://matplotlib.org)\n",
    "- [nba_api](https://pypi.org/project/nba-api/)\n",
    "- [IPython](https://ipython.readthedocs.io/en/stable/api/index.html)\n",
    "- [PIL](https://pillow.readthedocs.io/en/stable/)"
   ]
  },
  {
   "cell_type": "code",
   "execution_count": 10,
   "id": "ad4689f2",
   "metadata": {},
   "outputs": [],
   "source": [
    "# Imports\n",
    "import json\n",
    "import requests\n",
    "import pandas as pd\n",
    "import seaborn as sns\n",
    "import matplotlib as mpl\n",
    "import matplotlib.pyplot as plt\n",
    "import matplotlib.image as mpimg\n",
    "from matplotlib.patches import Circle, Rectangle, Arc\n",
    "from matplotlib.offsetbox import TextArea, DrawingArea, OffsetImage, AnnotationBbox\n",
    "from nba_api.stats.endpoints import shotchartdetail\n",
    "from IPython.display import Image\n",
    "from PIL import Image"
   ]
  },
  {
   "cell_type": "markdown",
   "id": "1d845979",
   "metadata": {},
   "source": [
    "## Drawing Court"
   ]
  },
  {
   "cell_type": "code",
   "execution_count": 3,
   "id": "4805837b",
   "metadata": {},
   "outputs": [
    {
     "data": {
      "text/html": [
       "<img src=\"../Images/court-dimensions.jpeg\"/>"
      ],
      "text/plain": [
       "<IPython.core.display.Image object>"
      ]
     },
     "execution_count": 3,
     "metadata": {},
     "output_type": "execute_result"
    }
   ],
   "source": [
    "Image(url='../Images/court-dimensions.jpeg')"
   ]
  },
  {
   "cell_type": "markdown",
   "id": "4e4d4fb5",
   "metadata": {},
   "source": [
    "**1 ft = 10 units on plot**"
   ]
  },
  {
   "cell_type": "code",
   "execution_count": 12,
   "id": "c4186fc9",
   "metadata": {},
   "outputs": [],
   "source": [
    "def draw_court(ax=None, color='black', lw=2, outer_lines=False):\n",
    "    # Use current axis if none provided\n",
    "    if ax is None:\n",
    "        ax = plt.gca()\n",
    "\n",
    "    # Rim\n",
    "    # Circle (diameter) = 18 in = 7.5 units\n",
    "    hoop = Circle((0, 0), radius=7.5, linewidth=lw, color=color, fill=False)\n",
    "\n",
    "    # Backboard\n",
    "    # Rectangle = 6ft = 60 units \n",
    "    backboard = Rectangle((-30, -7.5), 60, -1, linewidth=lw, color=color)\n",
    "\n",
    "    # Free Throw Lane\n",
    "    # Outer Box\n",
    "    # Rectangle = 16ft x 19ft = 160 units x 190 units\n",
    "    outer_box = Rectangle((-80, -47.5), 160, 190, linewidth=lw, color=color,\n",
    "                          fill=False)\n",
    "    # Create the inner box of the paint, widt=12ft, height=19ft\n",
    "    # Inner Box\n",
    "    # Rectangle = 12ft x 19ft = 120 units x 190 units\n",
    "    inner_box = Rectangle((-60, -47.5), 120, 190, linewidth=lw, color=color,\n",
    "                          fill=False)\n",
    "    \n",
    "    # Free Throw Arc (Top)\n",
    "    # Arc = 12ft x 12ft = 120 units x 120 units\n",
    "    top_free_throw = Arc((0, 142.5), 120, 120, theta1=0, theta2=180,\n",
    "                         linewidth=lw, color=color, fill=False)\n",
    "    # Free Throw Arc (Bottom)\n",
    "    # Arc = 12ft x 12ft = 120 units x 120 units\n",
    "    bottom_free_throw = Arc((0, 142.5), 120, 120, theta1=180, theta2=0,\n",
    "                            linewidth=lw, color=color, linestyle='dashed')\n",
    "    \n",
    "    # Restricted Zone\n",
    "    # Arc = 8ft x 8ft = 80 units x 80 units\n",
    "    restricted = Arc((0, 0), 80, 80, theta1=0, theta2=180, linewidth=lw,\n",
    "                     color=color)\n",
    "\n",
    "    # 3pt Line\n",
    "    # Rectangles x2 = 14ft in height = 140 units\n",
    "    corner1 = Rectangle((-220, -47.5), 0, 140, linewidth=lw,\n",
    "                               color=color)\n",
    "    corner2 = Rectangle((220, -47.5), 0, 140, linewidth=lw, color=color)\n",
    "    \n",
    "    # 3pt Arc\n",
    "    # Arc = 47.5ft x 47.5ft = 475 units x 475 units\n",
    "    three_arc = Arc((0, 0), 475, 475, theta1=22, theta2=158, linewidth=lw,\n",
    "                    color=color)\n",
    "    \n",
    "    # Center Court\n",
    "    # Outer Arc\n",
    "    # Arc = 12ft x 12ft = 120 units x 120 units\n",
    "    center_outer_arc = Arc((0, 422.5), 120, 120, theta1=180, theta2=0,\n",
    "                           linewidth=lw, color=color)\n",
    "    \n",
    "    # Inner Arc\n",
    "    # Arc = 4ft x 4ft = 40 units x 40 units\n",
    "    center_inner_arc = Arc((0, 422.5), 40, 40, theta1=180, theta2=0,\n",
    "                           linewidth=lw, color=color)\n",
    "\n",
    "    # List of the court elements to be plotted onto the axes\n",
    "    court_elements = [hoop, backboard, outer_box, inner_box, top_free_throw,\n",
    "                      bottom_free_throw, restricted, corner1,\n",
    "                      corner2, three_arc, center_outer_arc,\n",
    "                      center_inner_arc]\n",
    "\n",
    "    # Draw out of bounds line\n",
    "    # Rectangle = 50ft x 47.5 ft = 500 units x 475 units\n",
    "    if outer_lines:\n",
    "        outer_lines = Rectangle((-250, -47.5), 500, 470, linewidth=lw,\n",
    "                                color=color, fill=False)\n",
    "        court_elements.append(outer_lines)\n",
    "\n",
    "    # Add the court elements onto the axes\n",
    "    for element in court_elements:\n",
    "        ax.add_patch(element)\n",
    "        \n",
    "#     ax.add_artist(AnnotationBbox(OffsetImage(get_player_img(get_player_id('Joel', 'Embiid')) ),\n",
    "#                                 (500, 400),\n",
    "#                                 frameon=False))\n",
    "    \n",
    "\n",
    "#     get_player_img(get_player_id('Joel', 'Embiid'))    \n",
    "    \n",
    "    return ax"
   ]
  },
  {
   "cell_type": "code",
   "execution_count": 13,
   "id": "4e10e204",
   "metadata": {},
   "outputs": [
    {
     "data": {
      "text/plain": [
       "<function matplotlib.pyplot.show(close=None, block=None)>"
      ]
     },
     "execution_count": 13,
     "metadata": {},
     "output_type": "execute_result"
    },
    {
     "data": {
      "image/png": "[encoded data removed]",
      "text/plain": [
       "<Figure size 864x792 with 1 Axes>"
      ]
     },
     "metadata": {
      "needs_background": "light"
     },
     "output_type": "display_data"
    }
   ],
   "source": [
    "plt.figure(figsize=(12, 11))\n",
    "draw_court(outer_lines=True, color='black')\n",
    "# sns.scatterplot(x='LOC_X', y='LOC_Y', data=missed_shot_df, color='red')\n",
    "# sns.scatterplot(x='LOC_X', y='LOC_Y', data=made_shot_df, color='green')\n",
    "# get_player_img(get_player_id('Joel', 'Embiid'))\n",
    "plt.xlim(-300, 300)\n",
    "plt.ylim(-100, 500)\n",
    "plt.show"
   ]
  },
  {
   "cell_type": "code",
   "execution_count": null,
   "id": "6d5035fc",
   "metadata": {},
   "outputs": [],
   "source": []
  }
 ],
 "metadata": {
  "kernelspec": {
   "display_name": "nba-shot-chart-kernel",
   "language": "python",
   "name": "nba_shot_chart_env"
  },
  "language_info": {
   "codemirror_mode": {
    "name": "ipython",
    "version": 3
   },
   "file_extension": ".py",
   "mimetype": "text/x-python",
   "name": "python",
   "nbconvert_exporter": "python",
   "pygments_lexer": "ipython3",
   "version": "3.7.3"
  }
 },
 "nbformat": 4,
 "nbformat_minor": 5
}
