{
 "cells": [
  {
   "cell_type": "markdown",
   "id": "39813982",
   "metadata": {},
   "source": [
    "# Drawing NBA Court"
   ]
  },
  {
   "cell_type": "code",
   "execution_count": 1,
   "id": "e4214c9c",
   "metadata": {},
   "outputs": [],
   "source": [
    "from IPython.display import Image"
   ]
  },
  {
   "cell_type": "code",
   "execution_count": 2,
   "id": "97d4f813",
   "metadata": {},
   "outputs": [
    {
     "data": {
      "text/html": [
       "<img src=\"../Images/court-dimensions.jpeg\"/>"
      ],
      "text/plain": [
       "<IPython.core.display.Image object>"
      ]
     },
     "execution_count": 2,
     "metadata": {},
     "output_type": "execute_result"
    }
   ],
   "source": [
    "Image(url='../Images/court-dimensions.jpeg')"
   ]
  },
  {
   "cell_type": "code",
   "execution_count": null,
   "id": "24d9b02c",
   "metadata": {},
   "outputs": [],
   "source": []
  }
 ],
 "metadata": {
  "kernelspec": {
   "display_name": "nba-shot-chart-kernel",
   "language": "python",
   "name": "nba_shot_chart_env"
  },
  "language_info": {
   "codemirror_mode": {
    "name": "ipython",
    "version": 3
   },
   "file_extension": ".py",
   "mimetype": "text/x-python",
   "name": "python",
   "nbconvert_exporter": "python",
   "pygments_lexer": "ipython3",
   "version": "3.7.3"
  }
 },
 "nbformat": 4,
 "nbformat_minor": 5
}
